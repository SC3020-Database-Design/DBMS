{
 "cells": [
  {
   "cell_type": "code",
   "execution_count": 121,
   "metadata": {},
   "outputs": [
    {
     "name": "stdout",
     "output_type": "stream",
     "text": [
      "Requirement already satisfied: psycopg2-binary in /usr/local/anaconda3/lib/python3.9/site-packages (2.9.9)\n",
      "Note: you may need to restart the kernel to use updated packages.\n"
     ]
    }
   ],
   "source": [
    "%pip install psycopg2-binary"
   ]
  },
  {
   "cell_type": "code",
   "execution_count": 122,
   "metadata": {},
   "outputs": [],
   "source": [
    "import psycopg2\n",
    "import logging\n",
    "from collections import defaultdict\n",
    "import re"
   ]
  },
  {
   "cell_type": "code",
   "execution_count": 123,
   "metadata": {},
   "outputs": [],
   "source": [
    "try:\n",
    "  conn = psycopg2.connect(\n",
    "      dbname=\"tpc\",\n",
    "      user=\"postgres\",\n",
    "      password=\"password\",\n",
    "      host=\"localhost\",\n",
    "      port=\"5432\"\n",
    "  )\n",
    "  logging.info(\"Database connection established.\")\n",
    "except Exception as e:\n",
    "  print(f\"An error occurred while connecting to the database: {e}\")"
   ]
  },
  {
   "cell_type": "code",
   "execution_count": 124,
   "metadata": {},
   "outputs": [],
   "source": [
    "def execute_query(conn, query):\n",
    "  try:\n",
    "    # Create a cursor object\n",
    "    cur = conn.cursor()\n",
    "\n",
    "    # Execute the query\n",
    "    cur.execute(query)\n",
    "\n",
    "    # Fetch all rows from the result set\n",
    "    rows = cur.fetchall()\n",
    "    return rows\n",
    "  except psycopg2.Error as e:\n",
    "    print(\"Error executing query:\", e)"
   ]
  },
  {
   "cell_type": "code",
   "execution_count": 125,
   "metadata": {},
   "outputs": [],
   "source": [
    "tableSet = {'lineitem', 'orders','customer','partsupp','supplier','part','nation','region'}\n",
    "tableToProperties = defaultdict(lambda: {})"
   ]
  },
  {
   "cell_type": "code",
   "execution_count": 126,
   "metadata": {},
   "outputs": [
    {
     "name": "stdout",
     "output_type": "stream",
     "text": [
      "Error executing query: no results to fetch\n"
     ]
    }
   ],
   "source": [
    "\"\"\"\n",
    "    Refresh the file metadata as it is updated lazily.\n",
    "\"\"\"\n",
    "\n",
    "UPDATE_TABLE_STATS_QUERY = \"\"\"\n",
    "DO $$\n",
    "DECLARE\n",
    "    table_name TEXT;\n",
    "BEGIN\n",
    "    FOR table_name IN\n",
    "        SELECT tablename\n",
    "        FROM pg_catalog.pg_tables\n",
    "        WHERE schemaname = 'public' -- Specify the schema if needed\n",
    "    LOOP\n",
    "        EXECUTE format('ANALYZE %I', table_name);\n",
    "    END LOOP;\n",
    "END $$;\n",
    "\"\"\"\n",
    "execute_query(conn, UPDATE_TABLE_STATS_QUERY)"
   ]
  },
  {
   "cell_type": "code",
   "execution_count": 127,
   "metadata": {},
   "outputs": [
    {
     "name": "stdout",
     "output_type": "stream",
     "text": [
      "defaultdict(<function <lambda> at 0x7f77e0cf4280>, {'region': {'tuple_count': 5.0, 'page_count': 1}, 'nation': {'tuple_count': 25.0, 'page_count': 1}, 'supplier': {'tuple_count': 10000.0, 'page_count': 223}, 'part': {'tuple_count': 200000.0, 'page_count': 4128}, 'partsupp': {'tuple_count': 800000.0, 'page_count': 17552}, 'customer': {'tuple_count': 150000.0, 'page_count': 3600}, 'orders': {'tuple_count': 1500000.0, 'page_count': 26136}, 'lineitem': {'tuple_count': 6002286.0, 'page_count': 112600}})\n"
     ]
    }
   ],
   "source": [
    "\"\"\"\n",
    "  Get and store table metadata \n",
    "\"\"\"\n",
    "\n",
    "RELATION_PROPERTIES_QUERY = \"\"\"\n",
    "SELECT relname, reltuples, relpages \n",
    "FROM pg_class \n",
    "WHERE relkind IN ('r');\n",
    "\"\"\"\n",
    "result = execute_query(conn, RELATION_PROPERTIES_QUERY)\n",
    "for name, tuple_count, page_count in result:\n",
    "  if name in tableSet:\n",
    "    tableToProperties[name]['tuple_count'] = tuple_count\n",
    "    tableToProperties[name]['page_count'] = page_count\n",
    "\n",
    "print(tableToProperties)"
   ]
  },
  {
   "cell_type": "code",
   "execution_count": 132,
   "metadata": {},
   "outputs": [],
   "source": [
    "SEQ_PAGE_COST = 1\n",
    "CPU_TUPLE_COST = 0.01\n",
    "CPU_OPERATOR_COST = 0.0025\n",
    "\n",
    "def scan_cost_function(seq_pages_accessed: int, rows: int) -> float:\n",
    "  return (seq_pages_accessed * SEQ_PAGE_COST) + (rows * CPU_TUPLE_COST)\n",
    "\n",
    "operator_to_cost_function = { 'Seq Scan': scan_cost_function }\n"
   ]
  },
  {
   "cell_type": "code",
   "execution_count": 133,
   "metadata": {},
   "outputs": [
    {
     "name": "stdout",
     "output_type": "stream",
     "text": [
      "Actual total cost: 6128.0; Expected total cost: 6128.0\n"
     ]
    }
   ],
   "source": [
    "\"\"\"\n",
    "  Test Selection\n",
    "\"\"\"\n",
    "\n",
    "\n",
    "SELECT_PART_QUERY=\"\"\"\n",
    "SELECT p_partkey, p_name, p_mfgr, p_brand, p_type, p_size, p_container, p_retailprice, p_comment\n",
    "FROM public.part;\n",
    "\"\"\"\n",
    "\n",
    "class Explainer:\n",
    "  EXPLAIN_REGEX = r\"(\\w+\\s+\\w+)\\s+on\\s+(\\w+)\\s+\\(cost=(\\d+\\.\\d+)\\.\\.(\\d+\\.\\d+) rows=(\\d+) width=(\\d+)\\)\"\n",
    "  def __init__(self):\n",
    "    self.result = {}\n",
    "\n",
    "  def toExplainResult(self, explanation: str):\n",
    "    match = re.match(self.EXPLAIN_REGEX, explanation)\n",
    "    if match:\n",
    "      self.result['operator'] = match.group(1)\n",
    "      self.result['table_name'] = match.group(2)\n",
    "      self.result['starting_cost'] = float(match.group(3))\n",
    "      self.result['total_cost'] = float(match.group(4))\n",
    "      self.result['rows'] = int(match.group(5))\n",
    "      self.result['width'] = int(match.group(6))\n",
    "    else:\n",
    "      print(f\"No match found for {explanation}\")\n",
    "  \n",
    "  def exec(self, query: str):\n",
    "    query_result = execute_query(conn, \"EXPLAIN \" + query)\n",
    "    for res in query_result:\n",
    "      self.toExplainResult(res[0])\n",
    "    return self.result\n",
    "  \n",
    "  def explain(self):\n",
    "    if self.result['operator'] not in operator_to_cost_function:\n",
    "      raise Exception(f\"Cost function not defined for {self.result['operator']}\")\n",
    "    \n",
    "    tableName = self.result['table_name']\n",
    "    operator = self.result['operator']\n",
    "    pagesAccessed = tableToProperties[tableName]['page_count'] # change to use block/buffer wtv Alex said\n",
    "    expected_cost = operator_to_cost_function[operator](pagesAccessed, self.result['rows'])\n",
    "    print(f\"Actual total cost: {self.result['total_cost']}; Expected total cost: {expected_cost}\")\n",
    "\n",
    "select_part_explainer = Explainer()\n",
    "select_part_explainer.exec(SELECT_PART_QUERY)\n",
    "select_part_explainer.explain()\n"
   ]
  }
 ],
 "metadata": {
  "kernelspec": {
   "display_name": "Python 3",
   "language": "python",
   "name": "python3"
  },
  "language_info": {
   "codemirror_mode": {
    "name": "ipython",
    "version": 3
   },
   "file_extension": ".py",
   "mimetype": "text/x-python",
   "name": "python",
   "nbconvert_exporter": "python",
   "pygments_lexer": "ipython3",
   "version": "3.9.7"
  }
 },
 "nbformat": 4,
 "nbformat_minor": 2
}
